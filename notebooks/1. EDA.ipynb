{
 "cells": [
  {
   "cell_type": "code",
   "execution_count": 1,
   "metadata": {},
   "outputs": [],
   "source": [
    "import pandas as pd\n",
    "from src.plot import *\n",
    "import numpy as np\n",
    "\n",
    "pd.options.display.float_format = \"{:,.2f}\".format"
   ]
  },
  {
   "cell_type": "code",
   "execution_count": 2,
   "metadata": {},
   "outputs": [],
   "source": [
    "df = pd.read_csv('loan.csv')"
   ]
  },
  {
   "cell_type": "markdown",
   "metadata": {},
   "source": [
    "### EDA\n",
    "\n",
    "#### Numerical columns"
   ]
  },
  {
   "cell_type": "code",
   "execution_count": 3,
   "metadata": {},
   "outputs": [
    {
     "data": {
      "text/plain": [
       "int_rate          0\n",
       "installment       0\n",
       "annual_inc        4\n",
       "dti            1711\n",
       "recoveries        0\n",
       "dtype: int64"
      ]
     },
     "execution_count": 3,
     "metadata": {},
     "output_type": "execute_result"
    }
   ],
   "source": [
    "numerical = df.select_dtypes('number').columns\n",
    "df[numerical].isna().sum()"
   ]
  },
  {
   "cell_type": "code",
   "execution_count": 4,
   "metadata": {},
   "outputs": [
    {
     "ename": "AttributeError",
     "evalue": "'Line2D' object has no property 'kde'",
     "output_type": "error",
     "traceback": [
      "\u001b[0;31m---------------------------------------------------------------------------\u001b[0m",
      "\u001b[0;31mAttributeError\u001b[0m                            Traceback (most recent call last)",
      "\u001b[1;32m/Users/aleksandram/Projects/PD-scoring/notebooks/EDA.ipynb Cell 5'\u001b[0m in \u001b[0;36m<cell line: 1>\u001b[0;34m()\u001b[0m\n\u001b[1;32m      <a href='vscode-notebook-cell:/Users/aleksandram/Projects/PD-scoring/notebooks/EDA.ipynb#ch0000013?line=0'>1</a>\u001b[0m \u001b[39mfor\u001b[39;00m c \u001b[39min\u001b[39;00m numerical:\n\u001b[0;32m----> <a href='vscode-notebook-cell:/Users/aleksandram/Projects/PD-scoring/notebooks/EDA.ipynb#ch0000013?line=1'>2</a>\u001b[0m     plot_histogram(df,variable\u001b[39m=\u001b[39;49mc)\n\u001b[1;32m      <a href='vscode-notebook-cell:/Users/aleksandram/Projects/PD-scoring/notebooks/EDA.ipynb#ch0000013?line=2'>3</a>\u001b[0m     plt\u001b[39m.\u001b[39mshow()\n",
      "File \u001b[0;32m~/Projects/PD-scoring/notebooks/src/plot.py:14\u001b[0m, in \u001b[0;36mplot_histogram\u001b[0;34m(df, variable, **kwargs)\u001b[0m\n\u001b[1;32m      <a href='file:///Users/aleksandram/Projects/PD-scoring/notebooks/src/plot.py?line=5'>6</a>\u001b[0m \u001b[39m\"\"\"\u001b[39;00m\n\u001b[1;32m      <a href='file:///Users/aleksandram/Projects/PD-scoring/notebooks/src/plot.py?line=6'>7</a>\u001b[0m \u001b[39mPlots histogram         \u001b[39;00m\n\u001b[1;32m      <a href='file:///Users/aleksandram/Projects/PD-scoring/notebooks/src/plot.py?line=7'>8</a>\u001b[0m \u001b[39m    \u001b[39;00m\n\u001b[0;32m   (...)\u001b[0m\n\u001b[1;32m     <a href='file:///Users/aleksandram/Projects/PD-scoring/notebooks/src/plot.py?line=10'>11</a>\u001b[0m \u001b[39m\u001b[39;00m\n\u001b[1;32m     <a href='file:///Users/aleksandram/Projects/PD-scoring/notebooks/src/plot.py?line=11'>12</a>\u001b[0m \u001b[39m\"\"\"\u001b[39;00m\n\u001b[1;32m     <a href='file:///Users/aleksandram/Projects/PD-scoring/notebooks/src/plot.py?line=12'>13</a>\u001b[0m plt\u001b[39m.\u001b[39mfigure(figsize \u001b[39m=\u001b[39m (\u001b[39m9\u001b[39m,\u001b[39m3\u001b[39m))\n\u001b[0;32m---> <a href='file:///Users/aleksandram/Projects/PD-scoring/notebooks/src/plot.py?line=13'>14</a>\u001b[0m sns\u001b[39m.\u001b[39;49mdisplot(data\u001b[39m=\u001b[39;49mdf,x\u001b[39m=\u001b[39;49mvariable,kind\u001b[39m=\u001b[39;49m\u001b[39m\"\u001b[39;49m\u001b[39mkde\u001b[39;49m\u001b[39m\"\u001b[39;49m ,kde\u001b[39m=\u001b[39;49m\u001b[39mTrue\u001b[39;49;00m, \u001b[39m*\u001b[39;49m\u001b[39m*\u001b[39;49mkwargs)\n\u001b[1;32m     <a href='file:///Users/aleksandram/Projects/PD-scoring/notebooks/src/plot.py?line=14'>15</a>\u001b[0m plt\u001b[39m.\u001b[39mxlabel(variable)\n\u001b[1;32m     <a href='file:///Users/aleksandram/Projects/PD-scoring/notebooks/src/plot.py?line=15'>16</a>\u001b[0m plt\u001b[39m.\u001b[39mylabel(\u001b[39m\"\u001b[39m\u001b[39mFrequency\u001b[39m\u001b[39m\"\u001b[39m)\n",
      "File \u001b[0;32m~/.local/share/virtualenvs/PD-scoring-Yvrhi1rQ/lib/python3.9/site-packages/seaborn/distributions.py:2299\u001b[0m, in \u001b[0;36mdisplot\u001b[0;34m(data, x, y, hue, row, col, weights, kind, rug, rug_kws, log_scale, legend, palette, hue_order, hue_norm, color, col_wrap, row_order, col_order, height, aspect, facet_kws, **kwargs)\u001b[0m\n\u001b[1;32m   <a href='file:///Users/aleksandram/.local/share/virtualenvs/PD-scoring-Yvrhi1rQ/lib/python3.9/site-packages/seaborn/distributions.py?line=2295'>2296</a>\u001b[0m \u001b[39mif\u001b[39;00m p\u001b[39m.\u001b[39munivariate:\n\u001b[1;32m   <a href='file:///Users/aleksandram/.local/share/virtualenvs/PD-scoring-Yvrhi1rQ/lib/python3.9/site-packages/seaborn/distributions.py?line=2297'>2298</a>\u001b[0m     _assign_default_kwargs(kde_kws, p\u001b[39m.\u001b[39mplot_univariate_density, kdeplot)\n\u001b[0;32m-> <a href='file:///Users/aleksandram/.local/share/virtualenvs/PD-scoring-Yvrhi1rQ/lib/python3.9/site-packages/seaborn/distributions.py?line=2298'>2299</a>\u001b[0m     p\u001b[39m.\u001b[39;49mplot_univariate_density(\u001b[39m*\u001b[39;49m\u001b[39m*\u001b[39;49mkde_kws)\n\u001b[1;32m   <a href='file:///Users/aleksandram/.local/share/virtualenvs/PD-scoring-Yvrhi1rQ/lib/python3.9/site-packages/seaborn/distributions.py?line=2300'>2301</a>\u001b[0m \u001b[39melse\u001b[39;00m:\n\u001b[1;32m   <a href='file:///Users/aleksandram/.local/share/virtualenvs/PD-scoring-Yvrhi1rQ/lib/python3.9/site-packages/seaborn/distributions.py?line=2302'>2303</a>\u001b[0m     _assign_default_kwargs(kde_kws, p\u001b[39m.\u001b[39mplot_bivariate_density, kdeplot)\n",
      "File \u001b[0;32m~/.local/share/virtualenvs/PD-scoring-Yvrhi1rQ/lib/python3.9/site-packages/seaborn/distributions.py:1019\u001b[0m, in \u001b[0;36m_DistributionPlotter.plot_univariate_density\u001b[0;34m(self, multiple, common_norm, common_grid, warn_singular, fill, legend, estimate_kws, **plot_kws)\u001b[0m\n\u001b[1;32m   <a href='file:///Users/aleksandram/.local/share/virtualenvs/PD-scoring-Yvrhi1rQ/lib/python3.9/site-packages/seaborn/distributions.py?line=1014'>1015</a>\u001b[0m     artist \u001b[39m=\u001b[39m ax\u001b[39m.\u001b[39mfill_between(\n\u001b[1;32m   <a href='file:///Users/aleksandram/.local/share/virtualenvs/PD-scoring-Yvrhi1rQ/lib/python3.9/site-packages/seaborn/distributions.py?line=1015'>1016</a>\u001b[0m         support, fill_from, density, \u001b[39m*\u001b[39m\u001b[39m*\u001b[39martist_kws\n\u001b[1;32m   <a href='file:///Users/aleksandram/.local/share/virtualenvs/PD-scoring-Yvrhi1rQ/lib/python3.9/site-packages/seaborn/distributions.py?line=1016'>1017</a>\u001b[0m     )\n\u001b[1;32m   <a href='file:///Users/aleksandram/.local/share/virtualenvs/PD-scoring-Yvrhi1rQ/lib/python3.9/site-packages/seaborn/distributions.py?line=1017'>1018</a>\u001b[0m \u001b[39melse\u001b[39;00m:\n\u001b[0;32m-> <a href='file:///Users/aleksandram/.local/share/virtualenvs/PD-scoring-Yvrhi1rQ/lib/python3.9/site-packages/seaborn/distributions.py?line=1018'>1019</a>\u001b[0m     artist, \u001b[39m=\u001b[39m ax\u001b[39m.\u001b[39;49mplot(support, density, \u001b[39m*\u001b[39;49m\u001b[39m*\u001b[39;49martist_kws)\n\u001b[1;32m   <a href='file:///Users/aleksandram/.local/share/virtualenvs/PD-scoring-Yvrhi1rQ/lib/python3.9/site-packages/seaborn/distributions.py?line=1020'>1021</a>\u001b[0m artist\u001b[39m.\u001b[39msticky_edges\u001b[39m.\u001b[39mx[:] \u001b[39m=\u001b[39m sticky_support\n\u001b[1;32m   <a href='file:///Users/aleksandram/.local/share/virtualenvs/PD-scoring-Yvrhi1rQ/lib/python3.9/site-packages/seaborn/distributions.py?line=1021'>1022</a>\u001b[0m artist\u001b[39m.\u001b[39msticky_edges\u001b[39m.\u001b[39my[:] \u001b[39m=\u001b[39m sticky_density\n",
      "File \u001b[0;32m~/.local/share/virtualenvs/PD-scoring-Yvrhi1rQ/lib/python3.9/site-packages/matplotlib/axes/_axes.py:1632\u001b[0m, in \u001b[0;36mAxes.plot\u001b[0;34m(self, scalex, scaley, data, *args, **kwargs)\u001b[0m\n\u001b[1;32m   <a href='file:///Users/aleksandram/.local/share/virtualenvs/PD-scoring-Yvrhi1rQ/lib/python3.9/site-packages/matplotlib/axes/_axes.py?line=1389'>1390</a>\u001b[0m \u001b[39m\"\"\"\u001b[39;00m\n\u001b[1;32m   <a href='file:///Users/aleksandram/.local/share/virtualenvs/PD-scoring-Yvrhi1rQ/lib/python3.9/site-packages/matplotlib/axes/_axes.py?line=1390'>1391</a>\u001b[0m \u001b[39mPlot y versus x as lines and/or markers.\u001b[39;00m\n\u001b[1;32m   <a href='file:///Users/aleksandram/.local/share/virtualenvs/PD-scoring-Yvrhi1rQ/lib/python3.9/site-packages/matplotlib/axes/_axes.py?line=1391'>1392</a>\u001b[0m \n\u001b[0;32m   (...)\u001b[0m\n\u001b[1;32m   <a href='file:///Users/aleksandram/.local/share/virtualenvs/PD-scoring-Yvrhi1rQ/lib/python3.9/site-packages/matplotlib/axes/_axes.py?line=1628'>1629</a>\u001b[0m \u001b[39m(``'green'``) or hex strings (``'#008000'``).\u001b[39;00m\n\u001b[1;32m   <a href='file:///Users/aleksandram/.local/share/virtualenvs/PD-scoring-Yvrhi1rQ/lib/python3.9/site-packages/matplotlib/axes/_axes.py?line=1629'>1630</a>\u001b[0m \u001b[39m\"\"\"\u001b[39;00m\n\u001b[1;32m   <a href='file:///Users/aleksandram/.local/share/virtualenvs/PD-scoring-Yvrhi1rQ/lib/python3.9/site-packages/matplotlib/axes/_axes.py?line=1630'>1631</a>\u001b[0m kwargs \u001b[39m=\u001b[39m cbook\u001b[39m.\u001b[39mnormalize_kwargs(kwargs, mlines\u001b[39m.\u001b[39mLine2D)\n\u001b[0;32m-> <a href='file:///Users/aleksandram/.local/share/virtualenvs/PD-scoring-Yvrhi1rQ/lib/python3.9/site-packages/matplotlib/axes/_axes.py?line=1631'>1632</a>\u001b[0m lines \u001b[39m=\u001b[39m [\u001b[39m*\u001b[39m\u001b[39mself\u001b[39m\u001b[39m.\u001b[39m_get_lines(\u001b[39m*\u001b[39margs, data\u001b[39m=\u001b[39mdata, \u001b[39m*\u001b[39m\u001b[39m*\u001b[39mkwargs)]\n\u001b[1;32m   <a href='file:///Users/aleksandram/.local/share/virtualenvs/PD-scoring-Yvrhi1rQ/lib/python3.9/site-packages/matplotlib/axes/_axes.py?line=1632'>1633</a>\u001b[0m \u001b[39mfor\u001b[39;00m line \u001b[39min\u001b[39;00m lines:\n\u001b[1;32m   <a href='file:///Users/aleksandram/.local/share/virtualenvs/PD-scoring-Yvrhi1rQ/lib/python3.9/site-packages/matplotlib/axes/_axes.py?line=1633'>1634</a>\u001b[0m     \u001b[39mself\u001b[39m\u001b[39m.\u001b[39madd_line(line)\n",
      "File \u001b[0;32m~/.local/share/virtualenvs/PD-scoring-Yvrhi1rQ/lib/python3.9/site-packages/matplotlib/axes/_base.py:312\u001b[0m, in \u001b[0;36m_process_plot_var_args.__call__\u001b[0;34m(self, data, *args, **kwargs)\u001b[0m\n\u001b[1;32m    <a href='file:///Users/aleksandram/.local/share/virtualenvs/PD-scoring-Yvrhi1rQ/lib/python3.9/site-packages/matplotlib/axes/_base.py?line=309'>310</a>\u001b[0m     this \u001b[39m+\u001b[39m\u001b[39m=\u001b[39m args[\u001b[39m0\u001b[39m],\n\u001b[1;32m    <a href='file:///Users/aleksandram/.local/share/virtualenvs/PD-scoring-Yvrhi1rQ/lib/python3.9/site-packages/matplotlib/axes/_base.py?line=310'>311</a>\u001b[0m     args \u001b[39m=\u001b[39m args[\u001b[39m1\u001b[39m:]\n\u001b[0;32m--> <a href='file:///Users/aleksandram/.local/share/virtualenvs/PD-scoring-Yvrhi1rQ/lib/python3.9/site-packages/matplotlib/axes/_base.py?line=311'>312</a>\u001b[0m \u001b[39myield from\u001b[39;00m \u001b[39mself\u001b[39;49m\u001b[39m.\u001b[39;49m_plot_args(this, kwargs)\n",
      "File \u001b[0;32m~/.local/share/virtualenvs/PD-scoring-Yvrhi1rQ/lib/python3.9/site-packages/matplotlib/axes/_base.py:538\u001b[0m, in \u001b[0;36m_process_plot_var_args._plot_args\u001b[0;34m(self, tup, kwargs, return_kwargs)\u001b[0m\n\u001b[1;32m    <a href='file:///Users/aleksandram/.local/share/virtualenvs/PD-scoring-Yvrhi1rQ/lib/python3.9/site-packages/matplotlib/axes/_base.py?line=535'>536</a>\u001b[0m     \u001b[39mreturn\u001b[39;00m \u001b[39mlist\u001b[39m(result)\n\u001b[1;32m    <a href='file:///Users/aleksandram/.local/share/virtualenvs/PD-scoring-Yvrhi1rQ/lib/python3.9/site-packages/matplotlib/axes/_base.py?line=536'>537</a>\u001b[0m \u001b[39melse\u001b[39;00m:\n\u001b[0;32m--> <a href='file:///Users/aleksandram/.local/share/virtualenvs/PD-scoring-Yvrhi1rQ/lib/python3.9/site-packages/matplotlib/axes/_base.py?line=537'>538</a>\u001b[0m     \u001b[39mreturn\u001b[39;00m [l[\u001b[39m0\u001b[39m] \u001b[39mfor\u001b[39;00m l \u001b[39min\u001b[39;00m result]\n",
      "File \u001b[0;32m~/.local/share/virtualenvs/PD-scoring-Yvrhi1rQ/lib/python3.9/site-packages/matplotlib/axes/_base.py:538\u001b[0m, in \u001b[0;36m<listcomp>\u001b[0;34m(.0)\u001b[0m\n\u001b[1;32m    <a href='file:///Users/aleksandram/.local/share/virtualenvs/PD-scoring-Yvrhi1rQ/lib/python3.9/site-packages/matplotlib/axes/_base.py?line=535'>536</a>\u001b[0m     \u001b[39mreturn\u001b[39;00m \u001b[39mlist\u001b[39m(result)\n\u001b[1;32m    <a href='file:///Users/aleksandram/.local/share/virtualenvs/PD-scoring-Yvrhi1rQ/lib/python3.9/site-packages/matplotlib/axes/_base.py?line=536'>537</a>\u001b[0m \u001b[39melse\u001b[39;00m:\n\u001b[0;32m--> <a href='file:///Users/aleksandram/.local/share/virtualenvs/PD-scoring-Yvrhi1rQ/lib/python3.9/site-packages/matplotlib/axes/_base.py?line=537'>538</a>\u001b[0m     \u001b[39mreturn\u001b[39;00m [l[\u001b[39m0\u001b[39m] \u001b[39mfor\u001b[39;00m l \u001b[39min\u001b[39;00m result]\n",
      "File \u001b[0;32m~/.local/share/virtualenvs/PD-scoring-Yvrhi1rQ/lib/python3.9/site-packages/matplotlib/axes/_base.py:531\u001b[0m, in \u001b[0;36m<genexpr>\u001b[0;34m(.0)\u001b[0m\n\u001b[1;32m    <a href='file:///Users/aleksandram/.local/share/virtualenvs/PD-scoring-Yvrhi1rQ/lib/python3.9/site-packages/matplotlib/axes/_base.py?line=527'>528</a>\u001b[0m \u001b[39melse\u001b[39;00m:\n\u001b[1;32m    <a href='file:///Users/aleksandram/.local/share/virtualenvs/PD-scoring-Yvrhi1rQ/lib/python3.9/site-packages/matplotlib/axes/_base.py?line=528'>529</a>\u001b[0m     labels \u001b[39m=\u001b[39m [label] \u001b[39m*\u001b[39m n_datasets\n\u001b[0;32m--> <a href='file:///Users/aleksandram/.local/share/virtualenvs/PD-scoring-Yvrhi1rQ/lib/python3.9/site-packages/matplotlib/axes/_base.py?line=530'>531</a>\u001b[0m result \u001b[39m=\u001b[39m (make_artist(x[:, j \u001b[39m%\u001b[39;49m ncx], y[:, j \u001b[39m%\u001b[39;49m ncy], kw,\n\u001b[1;32m    <a href='file:///Users/aleksandram/.local/share/virtualenvs/PD-scoring-Yvrhi1rQ/lib/python3.9/site-packages/matplotlib/axes/_base.py?line=531'>532</a>\u001b[0m                       {\u001b[39m*\u001b[39;49m\u001b[39m*\u001b[39;49mkwargs, \u001b[39m'\u001b[39;49m\u001b[39mlabel\u001b[39;49m\u001b[39m'\u001b[39;49m: label})\n\u001b[1;32m    <a href='file:///Users/aleksandram/.local/share/virtualenvs/PD-scoring-Yvrhi1rQ/lib/python3.9/site-packages/matplotlib/axes/_base.py?line=532'>533</a>\u001b[0m           \u001b[39mfor\u001b[39;00m j, label \u001b[39min\u001b[39;00m \u001b[39menumerate\u001b[39m(labels))\n\u001b[1;32m    <a href='file:///Users/aleksandram/.local/share/virtualenvs/PD-scoring-Yvrhi1rQ/lib/python3.9/site-packages/matplotlib/axes/_base.py?line=534'>535</a>\u001b[0m \u001b[39mif\u001b[39;00m return_kwargs:\n\u001b[1;32m    <a href='file:///Users/aleksandram/.local/share/virtualenvs/PD-scoring-Yvrhi1rQ/lib/python3.9/site-packages/matplotlib/axes/_base.py?line=535'>536</a>\u001b[0m     \u001b[39mreturn\u001b[39;00m \u001b[39mlist\u001b[39m(result)\n",
      "File \u001b[0;32m~/.local/share/virtualenvs/PD-scoring-Yvrhi1rQ/lib/python3.9/site-packages/matplotlib/axes/_base.py:351\u001b[0m, in \u001b[0;36m_process_plot_var_args._makeline\u001b[0;34m(self, x, y, kw, kwargs)\u001b[0m\n\u001b[1;32m    <a href='file:///Users/aleksandram/.local/share/virtualenvs/PD-scoring-Yvrhi1rQ/lib/python3.9/site-packages/matplotlib/axes/_base.py?line=348'>349</a>\u001b[0m default_dict \u001b[39m=\u001b[39m \u001b[39mself\u001b[39m\u001b[39m.\u001b[39m_getdefaults(\u001b[39mset\u001b[39m(), kw)\n\u001b[1;32m    <a href='file:///Users/aleksandram/.local/share/virtualenvs/PD-scoring-Yvrhi1rQ/lib/python3.9/site-packages/matplotlib/axes/_base.py?line=349'>350</a>\u001b[0m \u001b[39mself\u001b[39m\u001b[39m.\u001b[39m_setdefaults(default_dict, kw)\n\u001b[0;32m--> <a href='file:///Users/aleksandram/.local/share/virtualenvs/PD-scoring-Yvrhi1rQ/lib/python3.9/site-packages/matplotlib/axes/_base.py?line=350'>351</a>\u001b[0m seg \u001b[39m=\u001b[39m mlines\u001b[39m.\u001b[39;49mLine2D(x, y, \u001b[39m*\u001b[39;49m\u001b[39m*\u001b[39;49mkw)\n\u001b[1;32m    <a href='file:///Users/aleksandram/.local/share/virtualenvs/PD-scoring-Yvrhi1rQ/lib/python3.9/site-packages/matplotlib/axes/_base.py?line=351'>352</a>\u001b[0m \u001b[39mreturn\u001b[39;00m seg, kw\n",
      "File \u001b[0;32m~/.local/share/virtualenvs/PD-scoring-Yvrhi1rQ/lib/python3.9/site-packages/matplotlib/lines.py:393\u001b[0m, in \u001b[0;36mLine2D.__init__\u001b[0;34m(self, xdata, ydata, linewidth, linestyle, color, marker, markersize, markeredgewidth, markeredgecolor, markerfacecolor, markerfacecoloralt, fillstyle, antialiased, dash_capstyle, solid_capstyle, dash_joinstyle, solid_joinstyle, pickradius, drawstyle, markevery, **kwargs)\u001b[0m\n\u001b[1;32m    <a href='file:///Users/aleksandram/.local/share/virtualenvs/PD-scoring-Yvrhi1rQ/lib/python3.9/site-packages/matplotlib/lines.py?line=388'>389</a>\u001b[0m \u001b[39mself\u001b[39m\u001b[39m.\u001b[39mset_markeredgewidth(markeredgewidth)\n\u001b[1;32m    <a href='file:///Users/aleksandram/.local/share/virtualenvs/PD-scoring-Yvrhi1rQ/lib/python3.9/site-packages/matplotlib/lines.py?line=390'>391</a>\u001b[0m \u001b[39m# update kwargs before updating data to give the caller a\u001b[39;00m\n\u001b[1;32m    <a href='file:///Users/aleksandram/.local/share/virtualenvs/PD-scoring-Yvrhi1rQ/lib/python3.9/site-packages/matplotlib/lines.py?line=391'>392</a>\u001b[0m \u001b[39m# chance to init axes (and hence unit support)\u001b[39;00m\n\u001b[0;32m--> <a href='file:///Users/aleksandram/.local/share/virtualenvs/PD-scoring-Yvrhi1rQ/lib/python3.9/site-packages/matplotlib/lines.py?line=392'>393</a>\u001b[0m \u001b[39mself\u001b[39;49m\u001b[39m.\u001b[39;49mupdate(kwargs)\n\u001b[1;32m    <a href='file:///Users/aleksandram/.local/share/virtualenvs/PD-scoring-Yvrhi1rQ/lib/python3.9/site-packages/matplotlib/lines.py?line=393'>394</a>\u001b[0m \u001b[39mself\u001b[39m\u001b[39m.\u001b[39mpickradius \u001b[39m=\u001b[39m pickradius\n\u001b[1;32m    <a href='file:///Users/aleksandram/.local/share/virtualenvs/PD-scoring-Yvrhi1rQ/lib/python3.9/site-packages/matplotlib/lines.py?line=394'>395</a>\u001b[0m \u001b[39mself\u001b[39m\u001b[39m.\u001b[39mind_offset \u001b[39m=\u001b[39m \u001b[39m0\u001b[39m\n",
      "File \u001b[0;32m~/.local/share/virtualenvs/PD-scoring-Yvrhi1rQ/lib/python3.9/site-packages/matplotlib/artist.py:1064\u001b[0m, in \u001b[0;36mArtist.update\u001b[0;34m(self, props)\u001b[0m\n\u001b[1;32m   <a href='file:///Users/aleksandram/.local/share/virtualenvs/PD-scoring-Yvrhi1rQ/lib/python3.9/site-packages/matplotlib/artist.py?line=1061'>1062</a>\u001b[0m             func \u001b[39m=\u001b[39m \u001b[39mgetattr\u001b[39m(\u001b[39mself\u001b[39m, \u001b[39mf\u001b[39m\u001b[39m\"\u001b[39m\u001b[39mset_\u001b[39m\u001b[39m{\u001b[39;00mk\u001b[39m}\u001b[39;00m\u001b[39m\"\u001b[39m, \u001b[39mNone\u001b[39;00m)\n\u001b[1;32m   <a href='file:///Users/aleksandram/.local/share/virtualenvs/PD-scoring-Yvrhi1rQ/lib/python3.9/site-packages/matplotlib/artist.py?line=1062'>1063</a>\u001b[0m             \u001b[39mif\u001b[39;00m \u001b[39mnot\u001b[39;00m callable(func):\n\u001b[0;32m-> <a href='file:///Users/aleksandram/.local/share/virtualenvs/PD-scoring-Yvrhi1rQ/lib/python3.9/site-packages/matplotlib/artist.py?line=1063'>1064</a>\u001b[0m                 \u001b[39mraise\u001b[39;00m \u001b[39mAttributeError\u001b[39;00m(\u001b[39mf\u001b[39m\u001b[39m\"\u001b[39m\u001b[39m{\u001b[39;00m\u001b[39mtype\u001b[39m(\u001b[39mself\u001b[39m)\u001b[39m.\u001b[39m\u001b[39m__name__\u001b[39m\u001b[39m!r}\u001b[39;00m\u001b[39m object \u001b[39m\u001b[39m\"\u001b[39m\n\u001b[1;32m   <a href='file:///Users/aleksandram/.local/share/virtualenvs/PD-scoring-Yvrhi1rQ/lib/python3.9/site-packages/matplotlib/artist.py?line=1064'>1065</a>\u001b[0m                                      \u001b[39mf\u001b[39m\u001b[39m\"\u001b[39m\u001b[39mhas no property \u001b[39m\u001b[39m{\u001b[39;00mk\u001b[39m!r}\u001b[39;00m\u001b[39m\"\u001b[39m)\n\u001b[1;32m   <a href='file:///Users/aleksandram/.local/share/virtualenvs/PD-scoring-Yvrhi1rQ/lib/python3.9/site-packages/matplotlib/artist.py?line=1065'>1066</a>\u001b[0m             ret\u001b[39m.\u001b[39mappend(func(v))\n\u001b[1;32m   <a href='file:///Users/aleksandram/.local/share/virtualenvs/PD-scoring-Yvrhi1rQ/lib/python3.9/site-packages/matplotlib/artist.py?line=1066'>1067</a>\u001b[0m \u001b[39mif\u001b[39;00m ret:\n",
      "\u001b[0;31mAttributeError\u001b[0m: 'Line2D' object has no property 'kde'"
     ]
    },
    {
     "data": {
      "text/plain": [
       "<Figure size 648x216 with 0 Axes>"
      ]
     },
     "metadata": {},
     "output_type": "display_data"
    },
    {
     "data": {
      "image/png": "[encoded data removed]",
      "text/plain": [
       "<Figure size 360x360 with 1 Axes>"
      ]
     },
     "metadata": {
      "needs_background": "light"
     },
     "output_type": "display_data"
    }
   ],
   "source": [
    "for c in numerical:\n",
    "    plot_histogram(df,variable=c)\n",
    "    plt.show()"
   ]
  },
  {
   "cell_type": "code",
   "execution_count": null,
   "metadata": {},
   "outputs": [
    {
     "data": {
      "text/html": [
       "<div>\n",
       "<style scoped>\n",
       "    .dataframe tbody tr th:only-of-type {\n",
       "        vertical-align: middle;\n",
       "    }\n",
       "\n",
       "    .dataframe tbody tr th {\n",
       "        vertical-align: top;\n",
       "    }\n",
       "\n",
       "    .dataframe thead th {\n",
       "        text-align: right;\n",
       "    }\n",
       "</style>\n",
       "<table border=\"1\" class=\"dataframe\">\n",
       "  <thead>\n",
       "    <tr style=\"text-align: right;\">\n",
       "      <th></th>\n",
       "      <th>int_rate</th>\n",
       "      <th>installment</th>\n",
       "      <th>annual_inc</th>\n",
       "      <th>dti</th>\n",
       "      <th>recoveries</th>\n",
       "    </tr>\n",
       "  </thead>\n",
       "  <tbody>\n",
       "    <tr>\n",
       "      <th>count</th>\n",
       "      <td>2,260,668.00</td>\n",
       "      <td>2,260,668.00</td>\n",
       "      <td>2,260,664.00</td>\n",
       "      <td>2,258,957.00</td>\n",
       "      <td>2,260,668.00</td>\n",
       "    </tr>\n",
       "    <tr>\n",
       "      <th>mean</th>\n",
       "      <td>13.09</td>\n",
       "      <td>445.81</td>\n",
       "      <td>77,992.43</td>\n",
       "      <td>18.82</td>\n",
       "      <td>136.07</td>\n",
       "    </tr>\n",
       "    <tr>\n",
       "      <th>std</th>\n",
       "      <td>4.83</td>\n",
       "      <td>267.17</td>\n",
       "      <td>112,696.20</td>\n",
       "      <td>14.18</td>\n",
       "      <td>725.83</td>\n",
       "    </tr>\n",
       "    <tr>\n",
       "      <th>min</th>\n",
       "      <td>5.31</td>\n",
       "      <td>4.93</td>\n",
       "      <td>0.00</td>\n",
       "      <td>-1.00</td>\n",
       "      <td>0.00</td>\n",
       "    </tr>\n",
       "    <tr>\n",
       "      <th>25%</th>\n",
       "      <td>9.49</td>\n",
       "      <td>251.65</td>\n",
       "      <td>46,000.00</td>\n",
       "      <td>11.89</td>\n",
       "      <td>0.00</td>\n",
       "    </tr>\n",
       "    <tr>\n",
       "      <th>50%</th>\n",
       "      <td>12.62</td>\n",
       "      <td>377.99</td>\n",
       "      <td>65,000.00</td>\n",
       "      <td>17.84</td>\n",
       "      <td>0.00</td>\n",
       "    </tr>\n",
       "    <tr>\n",
       "      <th>75%</th>\n",
       "      <td>15.99</td>\n",
       "      <td>593.32</td>\n",
       "      <td>93,000.00</td>\n",
       "      <td>24.49</td>\n",
       "      <td>0.00</td>\n",
       "    </tr>\n",
       "    <tr>\n",
       "      <th>max</th>\n",
       "      <td>30.99</td>\n",
       "      <td>1,719.83</td>\n",
       "      <td>110,000,000.00</td>\n",
       "      <td>999.00</td>\n",
       "      <td>39,859.55</td>\n",
       "    </tr>\n",
       "  </tbody>\n",
       "</table>\n",
       "</div>"
      ],
      "text/plain": [
       "          int_rate  installment     annual_inc          dti   recoveries\n",
       "count 2,260,668.00 2,260,668.00   2,260,664.00 2,258,957.00 2,260,668.00\n",
       "mean         13.09       445.81      77,992.43        18.82       136.07\n",
       "std           4.83       267.17     112,696.20        14.18       725.83\n",
       "min           5.31         4.93           0.00        -1.00         0.00\n",
       "25%           9.49       251.65      46,000.00        11.89         0.00\n",
       "50%          12.62       377.99      65,000.00        17.84         0.00\n",
       "75%          15.99       593.32      93,000.00        24.49         0.00\n",
       "max          30.99     1,719.83 110,000,000.00       999.00    39,859.55"
      ]
     },
     "execution_count": 73,
     "metadata": {},
     "output_type": "execute_result"
    }
   ],
   "source": [
    "df.describe()"
   ]
  },
  {
   "cell_type": "markdown",
   "metadata": {},
   "source": [
    "##### Observation & to be checked: \n",
    "1. maximum **interest** rate is almost 31%, is it inline or is it too high (i.e in Poland might be too high)?  \n",
    "\n",
    "2. **istallement** distribution looks ok at first glance,   \n",
    "\n",
    "3. **annual income**: check outliers and missing values   \n",
    "\n",
    "4. dti: why min value it is negative, check in detail the distribution, there are NA check why\n",
    "\n",
    "5. recoveries: check how many of them were above 0"
   ]
  },
  {
   "cell_type": "markdown",
   "metadata": {},
   "source": [
    "3. Annual income check"
   ]
  },
  {
   "cell_type": "code",
   "execution_count": 37,
   "metadata": {},
   "outputs": [
    {
     "data": {
      "text/plain": [
       "0.80   100,000.00\n",
       "0.85   114,000.00\n",
       "0.90   130,000.00\n",
       "0.95   160,000.00\n",
       "0.99   270,000.00\n",
       "Name: annual_inc, dtype: float64"
      ]
     },
     "execution_count": 37,
     "metadata": {},
     "output_type": "execute_result"
    }
   ],
   "source": [
    "df['annual_inc'].quantile([0.8,0.85,0.9,0.95, 0.99])"
   ]
  },
  {
   "cell_type": "code",
   "execution_count": 38,
   "metadata": {},
   "outputs": [
    {
     "data": {
      "image/png": "[encoded data removed]",
      "text/plain": [
       "<Figure size 648x216 with 1 Axes>"
      ]
     },
     "metadata": {
      "needs_background": "light"
     },
     "output_type": "display_data"
    },
    {
     "data": {
      "image/png": "[encoded data removed]",
      "text/plain": [
       "<Figure size 648x216 with 1 Axes>"
      ]
     },
     "metadata": {
      "needs_background": "light"
     },
     "output_type": "display_data"
    },
    {
     "data": {
      "text/plain": [
       "<module 'matplotlib.pyplot' from '/Users/aleksandram/.local/share/virtualenvs/PD-scoring-Yvrhi1rQ/lib/python3.9/site-packages/matplotlib/pyplot.py'>"
      ]
     },
     "execution_count": 38,
     "metadata": {},
     "output_type": "execute_result"
    }
   ],
   "source": [
    "plot_histogram(df[df['annual_inc']<=100000],variable='annual_inc')\n",
    "# tendency in round ammounts -> risk typology \n",
    "# are high value customer risky? maybe any VIP target model?\n",
    "plot_histogram(df[ (df['annual_inc']>=1000000)  & (df['annual_inc']<7000000) ],variable='annual_inc')\n"
   ]
  },
  {
   "cell_type": "code",
   "execution_count": 39,
   "metadata": {},
   "outputs": [
    {
     "data": {
      "text/html": [
       "<div>\n",
       "<style scoped>\n",
       "    .dataframe tbody tr th:only-of-type {\n",
       "        vertical-align: middle;\n",
       "    }\n",
       "\n",
       "    .dataframe tbody tr th {\n",
       "        vertical-align: top;\n",
       "    }\n",
       "\n",
       "    .dataframe thead th {\n",
       "        text-align: right;\n",
       "    }\n",
       "</style>\n",
       "<table border=\"1\" class=\"dataframe\">\n",
       "  <thead>\n",
       "    <tr style=\"text-align: right;\">\n",
       "      <th></th>\n",
       "      <th>term</th>\n",
       "      <th>int_rate</th>\n",
       "      <th>installment</th>\n",
       "      <th>grade</th>\n",
       "      <th>sub_grade</th>\n",
       "      <th>home_ownership</th>\n",
       "      <th>annual_inc</th>\n",
       "      <th>issue_d</th>\n",
       "      <th>loan_status</th>\n",
       "      <th>dti</th>\n",
       "      <th>earliest_cr_line</th>\n",
       "      <th>recoveries</th>\n",
       "      <th>last_pymnt_d</th>\n",
       "      <th>application_type</th>\n",
       "    </tr>\n",
       "  </thead>\n",
       "  <tbody>\n",
       "    <tr>\n",
       "      <th>2141934</th>\n",
       "      <td>36 months</td>\n",
       "      <td>7.43</td>\n",
       "      <td>155.38</td>\n",
       "      <td>A</td>\n",
       "      <td>A2</td>\n",
       "      <td>NONE</td>\n",
       "      <td>NaN</td>\n",
       "      <td>Aug-2007</td>\n",
       "      <td>Does not meet the credit policy. Status:Fully ...</td>\n",
       "      <td>1.00</td>\n",
       "      <td>NaN</td>\n",
       "      <td>0.00</td>\n",
       "      <td>Aug-2010</td>\n",
       "      <td>Individual</td>\n",
       "    </tr>\n",
       "    <tr>\n",
       "      <th>2141935</th>\n",
       "      <td>36 months</td>\n",
       "      <td>7.75</td>\n",
       "      <td>218.55</td>\n",
       "      <td>A</td>\n",
       "      <td>A3</td>\n",
       "      <td>NONE</td>\n",
       "      <td>NaN</td>\n",
       "      <td>Aug-2007</td>\n",
       "      <td>Does not meet the credit policy. Status:Fully ...</td>\n",
       "      <td>1.00</td>\n",
       "      <td>NaN</td>\n",
       "      <td>0.00</td>\n",
       "      <td>Aug-2010</td>\n",
       "      <td>Individual</td>\n",
       "    </tr>\n",
       "    <tr>\n",
       "      <th>2141965</th>\n",
       "      <td>36 months</td>\n",
       "      <td>7.75</td>\n",
       "      <td>209.18</td>\n",
       "      <td>A</td>\n",
       "      <td>A3</td>\n",
       "      <td>NONE</td>\n",
       "      <td>NaN</td>\n",
       "      <td>Jul-2007</td>\n",
       "      <td>Does not meet the credit policy. Status:Fully ...</td>\n",
       "      <td>1.00</td>\n",
       "      <td>NaN</td>\n",
       "      <td>0.00</td>\n",
       "      <td>Jul-2010</td>\n",
       "      <td>Individual</td>\n",
       "    </tr>\n",
       "    <tr>\n",
       "      <th>2142018</th>\n",
       "      <td>36 months</td>\n",
       "      <td>8.38</td>\n",
       "      <td>204.84</td>\n",
       "      <td>A</td>\n",
       "      <td>A5</td>\n",
       "      <td>NONE</td>\n",
       "      <td>NaN</td>\n",
       "      <td>Jun-2007</td>\n",
       "      <td>Does not meet the credit policy. Status:Fully ...</td>\n",
       "      <td>4.00</td>\n",
       "      <td>NaN</td>\n",
       "      <td>0.00</td>\n",
       "      <td>Jun-2010</td>\n",
       "      <td>Individual</td>\n",
       "    </tr>\n",
       "  </tbody>\n",
       "</table>\n",
       "</div>"
      ],
      "text/plain": [
       "               term  int_rate  installment grade sub_grade home_ownership  \\\n",
       "2141934   36 months      7.43       155.38     A        A2           NONE   \n",
       "2141935   36 months      7.75       218.55     A        A3           NONE   \n",
       "2141965   36 months      7.75       209.18     A        A3           NONE   \n",
       "2142018   36 months      8.38       204.84     A        A5           NONE   \n",
       "\n",
       "         annual_inc   issue_d  \\\n",
       "2141934         NaN  Aug-2007   \n",
       "2141935         NaN  Aug-2007   \n",
       "2141965         NaN  Jul-2007   \n",
       "2142018         NaN  Jun-2007   \n",
       "\n",
       "                                               loan_status  dti  \\\n",
       "2141934  Does not meet the credit policy. Status:Fully ... 1.00   \n",
       "2141935  Does not meet the credit policy. Status:Fully ... 1.00   \n",
       "2141965  Does not meet the credit policy. Status:Fully ... 1.00   \n",
       "2142018  Does not meet the credit policy. Status:Fully ... 4.00   \n",
       "\n",
       "        earliest_cr_line  recoveries last_pymnt_d application_type  \n",
       "2141934              NaN        0.00     Aug-2010       Individual  \n",
       "2141935              NaN        0.00     Aug-2010       Individual  \n",
       "2141965              NaN        0.00     Jul-2010       Individual  \n",
       "2142018              NaN        0.00     Jun-2010       Individual  "
      ]
     },
     "execution_count": 39,
     "metadata": {},
     "output_type": "execute_result"
    }
   ],
   "source": [
    "df[df['annual_inc']>270000].sort_values('annual_inc', ascending = False).head(50)\n",
    "df['annual_inc'].value_counts().tail(30)\n",
    "df[df['annual_inc'].isna()]"
   ]
  },
  {
   "cell_type": "code",
   "execution_count": 40,
   "metadata": {},
   "outputs": [],
   "source": [
    "#column I need -> total loan amount, start and end date, if laast payment equals end date, convert annual to monthly, compare dti\n",
    "# if paid on time or not ? \n"
   ]
  },
  {
   "cell_type": "markdown",
   "metadata": {},
   "source": [
    "4. dti: why min value it is negative, check in detail the distribution, there are NA check why"
   ]
  },
  {
   "cell_type": "code",
   "execution_count": 41,
   "metadata": {},
   "outputs": [
    {
     "data": {
      "text/html": [
       "<div>\n",
       "<style scoped>\n",
       "    .dataframe tbody tr th:only-of-type {\n",
       "        vertical-align: middle;\n",
       "    }\n",
       "\n",
       "    .dataframe tbody tr th {\n",
       "        vertical-align: top;\n",
       "    }\n",
       "\n",
       "    .dataframe thead th {\n",
       "        text-align: right;\n",
       "    }\n",
       "</style>\n",
       "<table border=\"1\" class=\"dataframe\">\n",
       "  <thead>\n",
       "    <tr style=\"text-align: right;\">\n",
       "      <th></th>\n",
       "      <th>term</th>\n",
       "      <th>int_rate</th>\n",
       "      <th>installment</th>\n",
       "      <th>grade</th>\n",
       "      <th>sub_grade</th>\n",
       "      <th>home_ownership</th>\n",
       "      <th>annual_inc</th>\n",
       "      <th>issue_d</th>\n",
       "      <th>loan_status</th>\n",
       "      <th>dti</th>\n",
       "      <th>earliest_cr_line</th>\n",
       "      <th>recoveries</th>\n",
       "      <th>last_pymnt_d</th>\n",
       "      <th>application_type</th>\n",
       "    </tr>\n",
       "  </thead>\n",
       "  <tbody>\n",
       "    <tr>\n",
       "      <th>723428</th>\n",
       "      <td>36 months</td>\n",
       "      <td>9.75</td>\n",
       "      <td>482.25</td>\n",
       "      <td>B</td>\n",
       "      <td>B3</td>\n",
       "      <td>MORTGAGE</td>\n",
       "      <td>94,000.00</td>\n",
       "      <td>Mar-2016</td>\n",
       "      <td>Fully Paid</td>\n",
       "      <td>-1.00</td>\n",
       "      <td>Sep-2003</td>\n",
       "      <td>0.00</td>\n",
       "      <td>Feb-2017</td>\n",
       "      <td>Individual</td>\n",
       "    </tr>\n",
       "    <tr>\n",
       "      <th>1377778</th>\n",
       "      <td>60 months</td>\n",
       "      <td>13.49</td>\n",
       "      <td>391.08</td>\n",
       "      <td>C</td>\n",
       "      <td>C2</td>\n",
       "      <td>MORTGAGE</td>\n",
       "      <td>75,000.00</td>\n",
       "      <td>Mar-2017</td>\n",
       "      <td>Fully Paid</td>\n",
       "      <td>-1.00</td>\n",
       "      <td>Sep-1992</td>\n",
       "      <td>0.00</td>\n",
       "      <td>Nov-2018</td>\n",
       "      <td>Joint App</td>\n",
       "    </tr>\n",
       "  </tbody>\n",
       "</table>\n",
       "</div>"
      ],
      "text/plain": [
       "               term  int_rate  installment grade sub_grade home_ownership  \\\n",
       "723428    36 months      9.75       482.25     B        B3       MORTGAGE   \n",
       "1377778   60 months     13.49       391.08     C        C2       MORTGAGE   \n",
       "\n",
       "         annual_inc   issue_d loan_status   dti earliest_cr_line  recoveries  \\\n",
       "723428    94,000.00  Mar-2016  Fully Paid -1.00         Sep-2003        0.00   \n",
       "1377778   75,000.00  Mar-2017  Fully Paid -1.00         Sep-1992        0.00   \n",
       "\n",
       "        last_pymnt_d application_type  \n",
       "723428      Feb-2017       Individual  \n",
       "1377778     Nov-2018        Joint App  "
      ]
     },
     "execution_count": 41,
     "metadata": {},
     "output_type": "execute_result"
    }
   ],
   "source": [
    "df[df['dti']<0]\n"
   ]
  },
  {
   "cell_type": "code",
   "execution_count": null,
   "metadata": {},
   "outputs": [],
   "source": [
    "plot_histogram(df[df['dti']<=50],variable='dti')\n",
    "#dti <40 is in distribution\n",
    "df[df['dti']>300]\n"
   ]
  },
  {
   "cell_type": "code",
   "execution_count": null,
   "metadata": {},
   "outputs": [],
   "source": [
    "df[df['dti'].isna()].count()\n",
    "df[(df['annual_inc']==0) & (~df['dti'].isna())]\n",
    "#annual inc is zero -> dti is zero something strange\n"
   ]
  },
  {
   "cell_type": "markdown",
   "metadata": {},
   "source": [
    "4. Recoveries"
   ]
  },
  {
   "cell_type": "code",
   "execution_count": null,
   "metadata": {},
   "outputs": [],
   "source": [
    "df[df['recoveries']>0].count()/df.shape[0]\n",
    "# Only of total is recovered, calculate how many of default are recovered"
   ]
  },
  {
   "cell_type": "code",
   "execution_count": null,
   "metadata": {},
   "outputs": [],
   "source": [
    "plot_histogram(df[df['recoveries']>0],variable='recoveries')\n",
    "# smaller ammounts are recovered"
   ]
  },
  {
   "cell_type": "markdown",
   "metadata": {},
   "source": [
    "### Categorical"
   ]
  },
  {
   "cell_type": "markdown",
   "metadata": {},
   "source": [
    "df.head()"
   ]
  },
  {
   "cell_type": "code",
   "execution_count": 42,
   "metadata": {},
   "outputs": [],
   "source": [
    "df.head()\n",
    "dates = ['issue_d','earliest_cr_line','last_pymnt_d']"
   ]
  },
  {
   "cell_type": "code",
   "execution_count": 43,
   "metadata": {},
   "outputs": [],
   "source": [
    "categorical = df.select_dtypes('object').columns\n",
    "categorical = [c for c in categorical if c not in dates]\n"
   ]
  },
  {
   "cell_type": "code",
   "execution_count": 44,
   "metadata": {},
   "outputs": [
    {
     "data": {
      "image/png": "[encoded data removed]",
      "text/plain": [
       "<Figure size 648x216 with 1 Axes>"
      ]
     },
     "metadata": {
      "needs_background": "light"
     },
     "output_type": "display_data"
    },
    {
     "data": {
      "image/png": "[encoded data removed]",
      "text/plain": [
       "<Figure size 648x216 with 1 Axes>"
      ]
     },
     "metadata": {
      "needs_background": "light"
     },
     "output_type": "display_data"
    },
    {
     "data": {
      "image/png": "[encoded data removed]",
      "text/plain": [
       "<Figure size 648x216 with 1 Axes>"
      ]
     },
     "metadata": {
      "needs_background": "light"
     },
     "output_type": "display_data"
    },
    {
     "data": {
      "image/png": "[encoded data removed]",
      "text/plain": [
       "<Figure size 648x216 with 1 Axes>"
      ]
     },
     "metadata": {
      "needs_background": "light"
     },
     "output_type": "display_data"
    },
    {
     "data": {
      "image/png": "[encoded data removed]",
      "text/plain": [
       "<Figure size 648x216 with 1 Axes>"
      ]
     },
     "metadata": {
      "needs_background": "light"
     },
     "output_type": "display_data"
    },
    {
     "data": {
      "image/png": "[encoded data removed]",
      "text/plain": [
       "<Figure size 648x216 with 1 Axes>"
      ]
     },
     "metadata": {
      "needs_background": "light"
     },
     "output_type": "display_data"
    }
   ],
   "source": [
    "for c in categorical:\n",
    "    plot_cnt(df,variable=c)\n",
    "    plt.show()"
   ]
  },
  {
   "cell_type": "code",
   "execution_count": 45,
   "metadata": {},
   "outputs": [
    {
     "data": {
      "text/plain": [
       "Fully Paid                                             1041952\n",
       "Current                                                 919695\n",
       "Charged Off                                             261655\n",
       "Late (31-120 days)                                       21897\n",
       "In Grace Period                                           8952\n",
       "Late (16-30 days)                                         3737\n",
       "Does not meet the credit policy. Status:Fully Paid        1988\n",
       "Does not meet the credit policy. Status:Charged Off        761\n",
       "Default                                                     31\n",
       "Name: loan_status, dtype: int64"
      ]
     },
     "execution_count": 45,
     "metadata": {},
     "output_type": "execute_result"
    }
   ],
   "source": [
    "df['loan_status'].value_counts()\n",
    "df['term'].value_counts()\n",
    "df['home_ownership'].value_counts()\n",
    "df['loan_status'].value_counts()"
   ]
  },
  {
   "cell_type": "code",
   "execution_count": 46,
   "metadata": {},
   "outputs": [
    {
     "data": {
      "text/plain": [
       "term                0\n",
       "grade               0\n",
       "sub_grade           0\n",
       "home_ownership      0\n",
       "loan_status         0\n",
       "application_type    0\n",
       "dtype: int64"
      ]
     },
     "execution_count": 46,
     "metadata": {},
     "output_type": "execute_result"
    }
   ],
   "source": [
    "#Missing data\n",
    "df[categorical].isna().sum()\n",
    "no_na"
   ]
  },
  {
   "cell_type": "markdown",
   "metadata": {},
   "source": [
    "### Dates"
   ]
  },
  {
   "cell_type": "code",
   "execution_count": 53,
   "metadata": {},
   "outputs": [],
   "source": [
    "for d in dates:\n",
    "    df[d] = pd.to_datetime(df[d],format='%b-%Y')"
   ]
  },
  {
   "cell_type": "code",
   "execution_count": 55,
   "metadata": {},
   "outputs": [
    {
     "name": "stderr",
     "output_type": "stream",
     "text": [
      "/var/folders/sr/tjflkqq52pjfd8vs0fdwdpqc0000gn/T/ipykernel_9402/2537157461.py:1: FutureWarning: Treating datetime data as categorical rather than numeric in `.describe` is deprecated and will be removed in a future version of pandas. Specify `datetime_is_numeric=True` to silence this warning and adopt the future behavior now.\n",
      "  df[dates].describe()\n",
      "/var/folders/sr/tjflkqq52pjfd8vs0fdwdpqc0000gn/T/ipykernel_9402/2537157461.py:1: FutureWarning: Treating datetime data as categorical rather than numeric in `.describe` is deprecated and will be removed in a future version of pandas. Specify `datetime_is_numeric=True` to silence this warning and adopt the future behavior now.\n",
      "  df[dates].describe()\n",
      "/var/folders/sr/tjflkqq52pjfd8vs0fdwdpqc0000gn/T/ipykernel_9402/2537157461.py:1: FutureWarning: Treating datetime data as categorical rather than numeric in `.describe` is deprecated and will be removed in a future version of pandas. Specify `datetime_is_numeric=True` to silence this warning and adopt the future behavior now.\n",
      "  df[dates].describe()\n"
     ]
    },
    {
     "data": {
      "text/html": [
       "<div>\n",
       "<style scoped>\n",
       "    .dataframe tbody tr th:only-of-type {\n",
       "        vertical-align: middle;\n",
       "    }\n",
       "\n",
       "    .dataframe tbody tr th {\n",
       "        vertical-align: top;\n",
       "    }\n",
       "\n",
       "    .dataframe thead th {\n",
       "        text-align: right;\n",
       "    }\n",
       "</style>\n",
       "<table border=\"1\" class=\"dataframe\">\n",
       "  <thead>\n",
       "    <tr style=\"text-align: right;\">\n",
       "      <th></th>\n",
       "      <th>issue_d</th>\n",
       "      <th>earliest_cr_line</th>\n",
       "      <th>last_pymnt_d</th>\n",
       "    </tr>\n",
       "  </thead>\n",
       "  <tbody>\n",
       "    <tr>\n",
       "      <th>count</th>\n",
       "      <td>2260668</td>\n",
       "      <td>2260639</td>\n",
       "      <td>2258242</td>\n",
       "    </tr>\n",
       "    <tr>\n",
       "      <th>unique</th>\n",
       "      <td>139</td>\n",
       "      <td>754</td>\n",
       "      <td>135</td>\n",
       "    </tr>\n",
       "    <tr>\n",
       "      <th>top</th>\n",
       "      <td>2016-03-01 00:00:00</td>\n",
       "      <td>2004-09-01 00:00:00</td>\n",
       "      <td>2019-02-01 00:00:00</td>\n",
       "    </tr>\n",
       "    <tr>\n",
       "      <th>freq</th>\n",
       "      <td>61992</td>\n",
       "      <td>15400</td>\n",
       "      <td>934725</td>\n",
       "    </tr>\n",
       "    <tr>\n",
       "      <th>first</th>\n",
       "      <td>2007-06-01 00:00:00</td>\n",
       "      <td>1933-03-01 00:00:00</td>\n",
       "      <td>2007-12-01 00:00:00</td>\n",
       "    </tr>\n",
       "    <tr>\n",
       "      <th>last</th>\n",
       "      <td>2018-12-01 00:00:00</td>\n",
       "      <td>2015-11-01 00:00:00</td>\n",
       "      <td>2019-02-01 00:00:00</td>\n",
       "    </tr>\n",
       "  </tbody>\n",
       "</table>\n",
       "</div>"
      ],
      "text/plain": [
       "                    issue_d     earliest_cr_line         last_pymnt_d\n",
       "count               2260668              2260639              2258242\n",
       "unique                  139                  754                  135\n",
       "top     2016-03-01 00:00:00  2004-09-01 00:00:00  2019-02-01 00:00:00\n",
       "freq                  61992                15400               934725\n",
       "first   2007-06-01 00:00:00  1933-03-01 00:00:00  2007-12-01 00:00:00\n",
       "last    2018-12-01 00:00:00  2015-11-01 00:00:00  2019-02-01 00:00:00"
      ]
     },
     "execution_count": 55,
     "metadata": {},
     "output_type": "execute_result"
    }
   ],
   "source": [
    "df[dates].describe()"
   ]
  },
  {
   "cell_type": "code",
   "execution_count": 58,
   "metadata": {},
   "outputs": [],
   "source": [
    "df['earliest_cr_line_year'] = df['earliest_cr_line'].dt.year"
   ]
  },
  {
   "cell_type": "markdown",
   "metadata": {},
   "source": []
  },
  {
   "cell_type": "code",
   "execution_count": 59,
   "metadata": {},
   "outputs": [
    {
     "data": {
      "image/png": "[encoded data removed]",
      "text/plain": [
       "<Figure size 648x216 with 1 Axes>"
      ]
     },
     "metadata": {
      "needs_background": "light"
     },
     "output_type": "display_data"
    },
    {
     "data": {
      "text/plain": [
       "<module 'matplotlib.pyplot' from '/Users/aleksandram/.local/share/virtualenvs/PD-scoring-Yvrhi1rQ/lib/python3.9/site-packages/matplotlib/pyplot.py'>"
      ]
     },
     "execution_count": 59,
     "metadata": {},
     "output_type": "execute_result"
    }
   ],
   "source": [
    "plot_histogram(df,'earliest_cr_line_year')"
   ]
  },
  {
   "cell_type": "code",
   "execution_count": null,
   "metadata": {},
   "outputs": [],
   "source": [
    "#earliest credit line 1930? "
   ]
  },
  {
   "cell_type": "code",
   "execution_count": 68,
   "metadata": {},
   "outputs": [],
   "source": []
  },
  {
   "cell_type": "code",
   "execution_count": null,
   "metadata": {},
   "outputs": [],
   "source": []
  }
 ],
 "metadata": {
  "interpreter": {
   "hash": "6e4be27bec60e11bd244380f4a4f33253c7dbc126c45a63e0eb00af4733d3b4b"
  },
  "kernelspec": {
   "display_name": "Python 3.9.7 ('PD-scoring-Yvrhi1rQ')",
   "language": "python",
   "name": "python3"
  },
  "language_info": {
   "codemirror_mode": {
    "name": "ipython",
    "version": 3
   },
   "file_extension": ".py",
   "mimetype": "text/x-python",
   "name": "python",
   "nbconvert_exporter": "python",
   "pygments_lexer": "ipython3",
   "version": "3.9.7"
  },
  "orig_nbformat": 4
 },
 "nbformat": 4,
 "nbformat_minor": 2
}
