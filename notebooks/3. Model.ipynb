{
 "cells": [
  {
   "cell_type": "code",
   "execution_count": 1,
   "metadata": {},
   "outputs": [
    {
     "name": "stderr",
     "output_type": "stream",
     "text": [
      "/Users/aleksandram/.local/share/virtualenvs/PD-scoring-Yvrhi1rQ/lib/python3.9/site-packages/xgboost/compat.py:36: FutureWarning: pandas.Int64Index is deprecated and will be removed from pandas in a future version. Use pandas.Index with the appropriate dtype instead.\n",
      "  from pandas import MultiIndex, Int64Index\n"
     ]
    }
   ],
   "source": [
    "import pandas as pd\n",
    "from src.transform import *\n",
    "import seaborn as sns\n",
    "\n",
    "from sklearn.preprocessing import OrdinalEncoder, StandardScaler, MinMaxScaler, OneHotEncoder\n",
    "from sklearn.compose import ColumnTransformer\n",
    "from sklearn.preprocessing import FunctionTransformer\n",
    "from sklearn.impute import SimpleImputer\n",
    "from sklearn.pipeline import FeatureUnion, Pipeline\n",
    "from sklearn.linear_model import LogisticRegression\n",
    "from sklearn.model_selection import train_test_split,ParameterGrid, cross_val_predict, GridSearchCV\n",
    "from sklearn.metrics import accuracy_score,recall_score,precision_score,f1_score, auc, roc_curve\n",
    "from xgboost import XGBClassifier\n",
    "pd.options.display.float_format = \"{:,.2f}\".format\n"
   ]
  },
  {
   "cell_type": "code",
   "execution_count": 2,
   "metadata": {},
   "outputs": [],
   "source": [
    "df = pd.read_csv('loan.csv')\n"
   ]
  },
  {
   "cell_type": "code",
   "execution_count": 3,
   "metadata": {},
   "outputs": [],
   "source": [
    "\n",
    "dates = ['issue_d','earliest_cr_line','last_pymnt_d']\n",
    "default_columns = ['Charged Off', 'Default', 'Does not meet the credit policy. Status:Charged Off', 'Late (31-120 days)']\n",
    "valid = default_columns + ['Fully Paid','Does not meet the credit policy. Status:Fully Paid']\n",
    "\n",
    "#remove current loans without feedback\n",
    "dfv = df[df.loan_status.isin(valid)].copy()\n",
    "\n",
    "for d in dates:\n",
    "    dfv[d] = pd.to_datetime(dfv[d],format='%b-%Y')\n",
    "\n",
    "\n"
   ]
  },
  {
   "cell_type": "code",
   "execution_count": 4,
   "metadata": {},
   "outputs": [
    {
     "data": {
      "text/html": [
       "<div>\n",
       "<style scoped>\n",
       "    .dataframe tbody tr th:only-of-type {\n",
       "        vertical-align: middle;\n",
       "    }\n",
       "\n",
       "    .dataframe tbody tr th {\n",
       "        vertical-align: top;\n",
       "    }\n",
       "\n",
       "    .dataframe thead th {\n",
       "        text-align: right;\n",
       "    }\n",
       "</style>\n",
       "<table border=\"1\" class=\"dataframe\">\n",
       "  <thead>\n",
       "    <tr style=\"text-align: right;\">\n",
       "      <th></th>\n",
       "      <th>term</th>\n",
       "      <th>int_rate</th>\n",
       "      <th>installment</th>\n",
       "      <th>grade</th>\n",
       "      <th>sub_grade</th>\n",
       "      <th>home_ownership</th>\n",
       "      <th>annual_inc</th>\n",
       "      <th>issue_d</th>\n",
       "      <th>loan_status</th>\n",
       "      <th>dti</th>\n",
       "      <th>earliest_cr_line</th>\n",
       "      <th>recoveries</th>\n",
       "      <th>last_pymnt_d</th>\n",
       "      <th>application_type</th>\n",
       "      <th>expected_payment_dt</th>\n",
       "      <th>relationship_months</th>\n",
       "      <th>low_inc</th>\n",
       "      <th>VIP</th>\n",
       "      <th>target</th>\n",
       "    </tr>\n",
       "  </thead>\n",
       "  <tbody>\n",
       "    <tr>\n",
       "      <th>100</th>\n",
       "      <td>36</td>\n",
       "      <td>22.35</td>\n",
       "      <td>1,151.16</td>\n",
       "      <td>4</td>\n",
       "      <td>D5</td>\n",
       "      <td>MORTGAGE</td>\n",
       "      <td>100,000.00</td>\n",
       "      <td>2018-12-01</td>\n",
       "      <td>Fully Paid</td>\n",
       "      <td>30.46</td>\n",
       "      <td>2012-01-01</td>\n",
       "      <td>0.00</td>\n",
       "      <td>2019-01-01</td>\n",
       "      <td>Joint App</td>\n",
       "      <td>2021-12-01</td>\n",
       "      <td>83.00</td>\n",
       "      <td>0</td>\n",
       "      <td>0</td>\n",
       "      <td>0</td>\n",
       "    </tr>\n",
       "    <tr>\n",
       "      <th>152</th>\n",
       "      <td>60</td>\n",
       "      <td>16.14</td>\n",
       "      <td>975.71</td>\n",
       "      <td>3</td>\n",
       "      <td>C4</td>\n",
       "      <td>MORTGAGE</td>\n",
       "      <td>45,000.00</td>\n",
       "      <td>2018-12-01</td>\n",
       "      <td>Fully Paid</td>\n",
       "      <td>50.53</td>\n",
       "      <td>2009-06-01</td>\n",
       "      <td>0.00</td>\n",
       "      <td>2019-02-01</td>\n",
       "      <td>Joint App</td>\n",
       "      <td>2023-12-01</td>\n",
       "      <td>114.00</td>\n",
       "      <td>0</td>\n",
       "      <td>0</td>\n",
       "      <td>0</td>\n",
       "    </tr>\n",
       "    <tr>\n",
       "      <th>170</th>\n",
       "      <td>36</td>\n",
       "      <td>7.56</td>\n",
       "      <td>622.68</td>\n",
       "      <td>1</td>\n",
       "      <td>A3</td>\n",
       "      <td>MORTGAGE</td>\n",
       "      <td>100,000.00</td>\n",
       "      <td>2018-12-01</td>\n",
       "      <td>Fully Paid</td>\n",
       "      <td>18.92</td>\n",
       "      <td>1999-02-01</td>\n",
       "      <td>0.00</td>\n",
       "      <td>2019-02-01</td>\n",
       "      <td>Joint App</td>\n",
       "      <td>2021-12-01</td>\n",
       "      <td>238.00</td>\n",
       "      <td>0</td>\n",
       "      <td>0</td>\n",
       "      <td>0</td>\n",
       "    </tr>\n",
       "    <tr>\n",
       "      <th>186</th>\n",
       "      <td>36</td>\n",
       "      <td>11.31</td>\n",
       "      <td>147.99</td>\n",
       "      <td>2</td>\n",
       "      <td>B3</td>\n",
       "      <td>RENT</td>\n",
       "      <td>38,500.00</td>\n",
       "      <td>2018-12-01</td>\n",
       "      <td>Fully Paid</td>\n",
       "      <td>4.64</td>\n",
       "      <td>2003-12-01</td>\n",
       "      <td>0.00</td>\n",
       "      <td>2019-02-01</td>\n",
       "      <td>Individual</td>\n",
       "      <td>2021-12-01</td>\n",
       "      <td>180.00</td>\n",
       "      <td>0</td>\n",
       "      <td>0</td>\n",
       "      <td>0</td>\n",
       "    </tr>\n",
       "    <tr>\n",
       "      <th>215</th>\n",
       "      <td>36</td>\n",
       "      <td>27.27</td>\n",
       "      <td>345.18</td>\n",
       "      <td>5</td>\n",
       "      <td>E5</td>\n",
       "      <td>MORTGAGE</td>\n",
       "      <td>450,000.00</td>\n",
       "      <td>2018-12-01</td>\n",
       "      <td>Fully Paid</td>\n",
       "      <td>12.37</td>\n",
       "      <td>1997-10-01</td>\n",
       "      <td>0.00</td>\n",
       "      <td>2019-02-01</td>\n",
       "      <td>Joint App</td>\n",
       "      <td>2021-12-01</td>\n",
       "      <td>254.00</td>\n",
       "      <td>0</td>\n",
       "      <td>0</td>\n",
       "      <td>0</td>\n",
       "    </tr>\n",
       "  </tbody>\n",
       "</table>\n",
       "</div>"
      ],
      "text/plain": [
       "     term  int_rate  installment  grade sub_grade home_ownership  annual_inc  \\\n",
       "100    36     22.35     1,151.16      4        D5       MORTGAGE  100,000.00   \n",
       "152    60     16.14       975.71      3        C4       MORTGAGE   45,000.00   \n",
       "170    36      7.56       622.68      1        A3       MORTGAGE  100,000.00   \n",
       "186    36     11.31       147.99      2        B3           RENT   38,500.00   \n",
       "215    36     27.27       345.18      5        E5       MORTGAGE  450,000.00   \n",
       "\n",
       "       issue_d loan_status   dti earliest_cr_line  recoveries last_pymnt_d  \\\n",
       "100 2018-12-01  Fully Paid 30.46       2012-01-01        0.00   2019-01-01   \n",
       "152 2018-12-01  Fully Paid 50.53       2009-06-01        0.00   2019-02-01   \n",
       "170 2018-12-01  Fully Paid 18.92       1999-02-01        0.00   2019-02-01   \n",
       "186 2018-12-01  Fully Paid  4.64       2003-12-01        0.00   2019-02-01   \n",
       "215 2018-12-01  Fully Paid 12.37       1997-10-01        0.00   2019-02-01   \n",
       "\n",
       "    application_type expected_payment_dt  relationship_months  low_inc  VIP  \\\n",
       "100        Joint App          2021-12-01                83.00        0    0   \n",
       "152        Joint App          2023-12-01               114.00        0    0   \n",
       "170        Joint App          2021-12-01               238.00        0    0   \n",
       "186       Individual          2021-12-01               180.00        0    0   \n",
       "215        Joint App          2021-12-01               254.00        0    0   \n",
       "\n",
       "     target  \n",
       "100       0  \n",
       "152       0  \n",
       "170       0  \n",
       "186       0  \n",
       "215       0  "
      ]
     },
     "execution_count": 4,
     "metadata": {},
     "output_type": "execute_result"
    }
   ],
   "source": [
    "dfv = transform_categorical(dfv)\n",
    "dfv = transform_dates(dfv)\n",
    "dfv = transform_numerical(dfv)\n",
    "dfv = transform_target(dfv,default_columns)\n",
    "\n",
    "dfv.head()"
   ]
  },
  {
   "cell_type": "code",
   "execution_count": 5,
   "metadata": {},
   "outputs": [],
   "source": [
    "# we have 284k data with label 1, lets sample the same "
   ]
  },
  {
   "cell_type": "code",
   "execution_count": 6,
   "metadata": {},
   "outputs": [
    {
     "data": {
      "text/plain": [
       "term                     int64\n",
       "int_rate               float64\n",
       "installment            float64\n",
       "grade                    int64\n",
       "home_ownership          object\n",
       "annual_inc             float64\n",
       "dti                    float64\n",
       "application_type        object\n",
       "relationship_months    float64\n",
       "low_inc                  int64\n",
       "VIP                      int64\n",
       "target                   int64\n",
       "dtype: object"
      ]
     },
     "execution_count": 6,
     "metadata": {},
     "output_type": "execute_result"
    }
   ],
   "source": [
    "# check pipeline ->\n",
    "dfv.drop(dates+['recoveries', 'expected_payment_dt','sub_grade','loan_status'], axis =1, inplace = True)\n",
    "dfv.fillna({'relationship_months':0,'annual_inc':0}, inplace = True)\n",
    "dfv.dtypes"
   ]
  },
  {
   "cell_type": "code",
   "execution_count": 7,
   "metadata": {},
   "outputs": [],
   "source": [
    "non_default = dfv[dfv.target == 0].sample(n=dfv.target.sum(), random_state= 27, axis = 0)\n",
    "default = dfv[dfv.target == 1]\n",
    "training_data =  pd.concat([default,non_default])"
   ]
  },
  {
   "cell_type": "code",
   "execution_count": 8,
   "metadata": {},
   "outputs": [
    {
     "name": "stderr",
     "output_type": "stream",
     "text": [
      "/var/folders/sr/tjflkqq52pjfd8vs0fdwdpqc0000gn/T/ipykernel_49984/536713805.py:2: FutureWarning: In a future version of pandas all arguments of DataFrame.drop except for the argument 'labels' will be keyword-only.\n",
      "  X = training_data.drop(['target'],1)\n"
     ]
    }
   ],
   "source": [
    "y = training_data['target']\n",
    "X = training_data.drop(['target'],1)"
   ]
  },
  {
   "cell_type": "code",
   "execution_count": 9,
   "metadata": {},
   "outputs": [],
   "source": [
    "num = X.select_dtypes('float64').columns\n",
    "text = X.select_dtypes('object').columns\n",
    "int = X.select_dtypes('int64').columns\n",
    "\n"
   ]
  },
  {
   "cell_type": "code",
   "execution_count": 29,
   "metadata": {},
   "outputs": [],
   "source": [
    "numerical_pieline = Pipeline( steps = [\n",
    "\n",
    "    ('imput', SimpleImputer(missing_values=np.NaN, strategy='median')),\n",
    "    ('scaler', StandardScaler() ),\n",
    "    ])\n",
    "\n",
    "categorical_pipeline = Pipeline( steps =[\n",
    "    ('imput', SimpleImputer(missing_values=np.NaN, strategy=\"most_frequent\")),\n",
    "    ('ohc', OneHotEncoder())\n",
    "])\n",
    "\n",
    "int_pipeline = Pipeline( steps =[\n",
    "    ('imput', SimpleImputer(missing_values=np.NaN, strategy=\"most_frequent\"))\n",
    "    ])\n",
    "\n",
    "\n",
    "preprocessor = ColumnTransformer(transformers = [\n",
    "    ('categorical', categorical_pipeline, text),\n",
    "    ('num', numerical_pieline,  num),\n",
    "    ('int', int_pipeline, int)\n",
    "])\n",
    "\n",
    "model_pipeline_log = Pipeline(steps = [\n",
    "    ('prepoc', preprocessor),\n",
    "    ('clf', LogisticRegression(solver='liblinear'))\n",
    "    \n",
    "\n",
    "])\n",
    "\n",
    "\n",
    "model_pipeline_xgb = Pipeline(steps = [\n",
    "    ('prepoc', preprocessor),\n",
    "    ('clf', XGBClassifier(use_label_encoder=False, objective ='binary:logistic', eval_metric = \"logloss\"))\n",
    "    \n",
    "\n",
    "])"
   ]
  },
  {
   "cell_type": "code",
   "execution_count": 30,
   "metadata": {},
   "outputs": [],
   "source": [
    "X_train, X_test, y_train, y_test = train_test_split(X,y,                                    \n",
    "                                     test_size=0.2,\n",
    "                                     random_state=0)  \n"
   ]
  },
  {
   "cell_type": "code",
   "execution_count": 31,
   "metadata": {},
   "outputs": [
    {
     "name": "stdout",
     "output_type": "stream",
     "text": [
      "Accuracy Score : 0.6452636761680353\n",
      "Precision Score : 0.652754964909661\n",
      "Recall Score : 0.616626994622234\n",
      "F1 Score : 0.6341768593992257\n",
      "Confusion Matrix : \n",
      "[[38419 18604]\n",
      " [21743 34972]]\n"
     ]
    },
    {
     "data": {
      "text/plain": [
       "0.6451863380946605"
      ]
     },
     "execution_count": 31,
     "metadata": {},
     "output_type": "execute_result"
    }
   ],
   "source": [
    "model_pipeline_log.fit(X_train,y_train)\n",
    "y_pred_log = model_pipeline_log.predict(X_test)\n",
    "\n",
    "print('Accuracy Score : ' + str(accuracy_score(y_test,y_pred_log)))\n",
    "print('Precision Score : ' + str(precision_score(y_test,y_pred_log)))\n",
    "print('Recall Score : ' + str(recall_score(y_test,y_pred_log)))\n",
    "print('F1 Score : ' + str(f1_score(y_test,y_pred_log)))\n",
    "\n",
    "#Dummy Classifier Confusion matrix\n",
    "from sklearn.metrics import confusion_matrix\n",
    "print('Confusion Matrix : \\n' + str(confusion_matrix(y_test,y_pred_log)))\n",
    "fpr, tpr, thresholds = roc_curve(y_test, y_pred_log)\n",
    "auc(fpr, tpr)\n"
   ]
  },
  {
   "cell_type": "code",
   "execution_count": 32,
   "metadata": {},
   "outputs": [
    {
     "name": "stdout",
     "output_type": "stream",
     "text": [
      "Accuracy Score : 0.6572033972814715\n",
      "Precision Score : 0.6491233973819699\n",
      "Recall Score : 0.6802433218725205\n",
      "F1 Score : 0.6643191073534855\n",
      "Confusion Matrix : \n",
      "[[36169 20854]\n",
      " [18135 38580]]\n"
     ]
    },
    {
     "data": {
      "text/plain": [
       "0.657265620391217"
      ]
     },
     "execution_count": 32,
     "metadata": {},
     "output_type": "execute_result"
    }
   ],
   "source": [
    "model_pipeline_xgb.fit(X_train,y_train)\n",
    "y_pred_xgb = model_pipeline_xgb.predict(X_test)\n",
    "\n",
    "print('Accuracy Score : ' + str(accuracy_score(y_test,y_pred_xgb)))\n",
    "print('Precision Score : ' + str(precision_score(y_test,y_pred_xgb)))\n",
    "print('Recall Score : ' + str(recall_score(y_test,y_pred_xgb)))\n",
    "print('F1 Score : ' + str(f1_score(y_test,y_pred_xgb)))\n",
    "\n",
    "#Dummy Classifier Confusion matrix\n",
    "from sklearn.metrics import confusion_matrix\n",
    "print('Confusion Matrix : \\n' + str(confusion_matrix(y_test,y_pred_xgb)))\n",
    "fpr_x, tpr_x, thresholds_x = roc_curve(y_test, y_pred_xgb)\n",
    "auc(fpr_x, tpr_x)"
   ]
  },
  {
   "cell_type": "code",
   "execution_count": 37,
   "metadata": {},
   "outputs": [],
   "source": [
    "PD_xgb = model_pipeline_xgb.predict_proba(X_test)[:,1]\n",
    "PD_log = model_pipeline_log.predict_proba(X_test)[:,1]"
   ]
  },
  {
   "cell_type": "code",
   "execution_count": 47,
   "metadata": {},
   "outputs": [],
   "source": [
    "PD = pd.concat([pd.Series(y_test.values),pd.Series(PD_xgb), pd.Series(PD_log)], axis = 1)"
   ]
  },
  {
   "cell_type": "code",
   "execution_count": 48,
   "metadata": {},
   "outputs": [
    {
     "data": {
      "text/html": [
       "<div>\n",
       "<style scoped>\n",
       "    .dataframe tbody tr th:only-of-type {\n",
       "        vertical-align: middle;\n",
       "    }\n",
       "\n",
       "    .dataframe tbody tr th {\n",
       "        vertical-align: top;\n",
       "    }\n",
       "\n",
       "    .dataframe thead th {\n",
       "        text-align: right;\n",
       "    }\n",
       "</style>\n",
       "<table border=\"1\" class=\"dataframe\">\n",
       "  <thead>\n",
       "    <tr style=\"text-align: right;\">\n",
       "      <th></th>\n",
       "      <th>0</th>\n",
       "      <th>1</th>\n",
       "      <th>2</th>\n",
       "    </tr>\n",
       "  </thead>\n",
       "  <tbody>\n",
       "    <tr>\n",
       "      <th>0</th>\n",
       "      <td>0</td>\n",
       "      <td>0.39</td>\n",
       "      <td>0.45</td>\n",
       "    </tr>\n",
       "    <tr>\n",
       "      <th>1</th>\n",
       "      <td>0</td>\n",
       "      <td>0.50</td>\n",
       "      <td>0.54</td>\n",
       "    </tr>\n",
       "    <tr>\n",
       "      <th>2</th>\n",
       "      <td>0</td>\n",
       "      <td>0.64</td>\n",
       "      <td>0.55</td>\n",
       "    </tr>\n",
       "    <tr>\n",
       "      <th>3</th>\n",
       "      <td>0</td>\n",
       "      <td>0.18</td>\n",
       "      <td>0.30</td>\n",
       "    </tr>\n",
       "    <tr>\n",
       "      <th>4</th>\n",
       "      <td>1</td>\n",
       "      <td>0.32</td>\n",
       "      <td>0.24</td>\n",
       "    </tr>\n",
       "    <tr>\n",
       "      <th>...</th>\n",
       "      <td>...</td>\n",
       "      <td>...</td>\n",
       "      <td>...</td>\n",
       "    </tr>\n",
       "    <tr>\n",
       "      <th>113733</th>\n",
       "      <td>0</td>\n",
       "      <td>0.27</td>\n",
       "      <td>0.34</td>\n",
       "    </tr>\n",
       "    <tr>\n",
       "      <th>113734</th>\n",
       "      <td>1</td>\n",
       "      <td>0.84</td>\n",
       "      <td>0.84</td>\n",
       "    </tr>\n",
       "    <tr>\n",
       "      <th>113735</th>\n",
       "      <td>0</td>\n",
       "      <td>0.10</td>\n",
       "      <td>0.23</td>\n",
       "    </tr>\n",
       "    <tr>\n",
       "      <th>113736</th>\n",
       "      <td>1</td>\n",
       "      <td>0.40</td>\n",
       "      <td>0.40</td>\n",
       "    </tr>\n",
       "    <tr>\n",
       "      <th>113737</th>\n",
       "      <td>0</td>\n",
       "      <td>0.47</td>\n",
       "      <td>0.53</td>\n",
       "    </tr>\n",
       "  </tbody>\n",
       "</table>\n",
       "<p>113738 rows × 3 columns</p>\n",
       "</div>"
      ],
      "text/plain": [
       "        0    1    2\n",
       "0       0 0.39 0.45\n",
       "1       0 0.50 0.54\n",
       "2       0 0.64 0.55\n",
       "3       0 0.18 0.30\n",
       "4       1 0.32 0.24\n",
       "...    ..  ...  ...\n",
       "113733  0 0.27 0.34\n",
       "113734  1 0.84 0.84\n",
       "113735  0 0.10 0.23\n",
       "113736  1 0.40 0.40\n",
       "113737  0 0.47 0.53\n",
       "\n",
       "[113738 rows x 3 columns]"
      ]
     },
     "execution_count": 48,
     "metadata": {},
     "output_type": "execute_result"
    }
   ],
   "source": [
    "PD"
   ]
  },
  {
   "cell_type": "code",
   "execution_count": null,
   "metadata": {},
   "outputs": [],
   "source": [
    "#Choose XGBoost"
   ]
  },
  {
   "cell_type": "code",
   "execution_count": 49,
   "metadata": {},
   "outputs": [],
   "source": [
    "# #Not Successfull :(\n",
    "\n",
    "# grid_clf_acc = GridSearchCV(model_pipeline,param_grid = param_grid,scoring = 'precision')\n",
    "# grid_clf_acc.fit(X_train, y_train)\n",
    "\n",
    "# #Predict values based on new parameters\n",
    "# y_pred_acc = grid_clf_acc.predict(X_test)\n",
    "\n",
    "# # New Model Evaluation metrics \n",
    "# print('Accuracy Score : ' + str(accuracy_score(y_test,y_pred_acc)))\n",
    "# print('Precision Score : ' + str(precision_score(y_test,y_pred_acc)))\n",
    "# print('Recall Score : ' + str(recall_score(y_test,y_pred_acc)))\n",
    "# print('F1 Score : ' + str(f1_score(y_test,y_pred_acc)))\n",
    "\n",
    "# #Logistic Regression (Grid Search) Confusion matrix\n",
    "# confusion_matrix(y_test,y_pred_acc)\n",
    "\n",
    "# #Training not successfull"
   ]
  },
  {
   "cell_type": "code",
   "execution_count": null,
   "metadata": {},
   "outputs": [],
   "source": [
    "#https://medium.com/ml-byte-size/how-does-decision-tree-output-predict-proba-12c78634c9d5"
   ]
  },
  {
   "cell_type": "code",
   "execution_count": null,
   "metadata": {},
   "outputs": [],
   "source": []
  },
  {
   "cell_type": "code",
   "execution_count": null,
   "metadata": {},
   "outputs": [],
   "source": []
  }
 ],
 "metadata": {
  "interpreter": {
   "hash": "6e4be27bec60e11bd244380f4a4f33253c7dbc126c45a63e0eb00af4733d3b4b"
  },
  "kernelspec": {
   "display_name": "Python 3.9.7 ('PD-scoring-Yvrhi1rQ')",
   "language": "python",
   "name": "python3"
  },
  "language_info": {
   "codemirror_mode": {
    "name": "ipython",
    "version": 3
   },
   "file_extension": ".py",
   "mimetype": "text/x-python",
   "name": "python",
   "nbconvert_exporter": "python",
   "pygments_lexer": "ipython3",
   "version": "3.9.7"
  },
  "orig_nbformat": 4
 },
 "nbformat": 4,
 "nbformat_minor": 2
}
