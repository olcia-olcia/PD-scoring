{
 "cells": [
  {
   "cell_type": "code",
   "execution_count": null,
   "metadata": {},
   "outputs": [],
   "source": [
    "import pandas as pd\n",
    "from src.plot import *\n",
    "import numpy as np\n",
    "\n",
    "pd.options.display.float_format = \"{:,.2f}\".format"
   ]
  },
  {
   "cell_type": "code",
   "execution_count": null,
   "metadata": {},
   "outputs": [],
   "source": [
    "df = pd.read_csv('loan.csv')"
   ]
  },
  {
   "cell_type": "markdown",
   "metadata": {},
   "source": [
    "### EDA\n",
    "\n",
    "#### Numerical columns"
   ]
  },
  {
   "cell_type": "code",
   "execution_count": null,
   "metadata": {},
   "outputs": [],
   "source": [
    "numerical = df.select_dtypes('number').columns\n",
    "df[numerical].isna().sum()"
   ]
  },
  {
   "cell_type": "code",
   "execution_count": null,
   "metadata": {},
   "outputs": [],
   "source": [
    "for c in numerical:\n",
    "    plot_histogram(df,variable=c)\n",
    "    plt.show()"
   ]
  },
  {
   "cell_type": "code",
   "execution_count": null,
   "metadata": {},
   "outputs": [],
   "source": [
    "df.describe()"
   ]
  },
  {
   "cell_type": "markdown",
   "metadata": {},
   "source": [
    "##### Observation & to be checked: \n",
    "1. maximum **interest** rate is almost 31%, is it inline or is it too high (i.e in Poland might be too high)?  \n",
    "\n",
    "2. **istallement** distribution looks ok at first glance,   \n",
    "\n",
    "3. **annual income**: check outliers and missing values   \n",
    "\n",
    "4. dti: why min value it is negative, check in detail the distribution, there are NA check why\n",
    "\n",
    "5. recoveries: check how many of them were above 0"
   ]
  },
  {
   "cell_type": "markdown",
   "metadata": {},
   "source": [
    "3. Annual income check"
   ]
  },
  {
   "cell_type": "code",
   "execution_count": null,
   "metadata": {},
   "outputs": [],
   "source": [
    "df['annual_inc'].quantile([0.8,0.85,0.9,0.95, 0.99])"
   ]
  },
  {
   "cell_type": "code",
   "execution_count": null,
   "metadata": {},
   "outputs": [],
   "source": [
    "plot_histogram(df[df['annual_inc']<=100000],variable='annual_inc')\n",
    "# tendency in round ammounts -> risk typology \n",
    "# are high value customer risky? maybe any VIP target model?\n",
    "plot_histogram(df[ (df['annual_inc']>=1000000)  & (df['annual_inc']<7000000) ],variable='annual_inc')\n"
   ]
  },
  {
   "cell_type": "code",
   "execution_count": null,
   "metadata": {},
   "outputs": [],
   "source": [
    "df[df['annual_inc']>270000].sort_values('annual_inc', ascending = False).head(50)\n",
    "df['annual_inc'].value_counts().tail(30)\n",
    "df[df['annual_inc'].isna()]"
   ]
  },
  {
   "cell_type": "code",
   "execution_count": null,
   "metadata": {},
   "outputs": [],
   "source": [
    "#column I need -> total loan amount, start and end date, if laast payment equals end date, convert annual to monthly, compare dti\n",
    "# if paid on time or not ? \n"
   ]
  },
  {
   "cell_type": "markdown",
   "metadata": {},
   "source": [
    "4. dti: why min value it is negative, check in detail the distribution, there are NA check why"
   ]
  },
  {
   "cell_type": "code",
   "execution_count": null,
   "metadata": {},
   "outputs": [],
   "source": [
    "df[df['dti']<0]\n"
   ]
  },
  {
   "cell_type": "code",
   "execution_count": null,
   "metadata": {},
   "outputs": [],
   "source": [
    "plot_histogram(df[df['dti']<=50],variable='dti')\n",
    "#dti <40 is in distribution\n",
    "df[df['dti']>300]\n"
   ]
  },
  {
   "cell_type": "code",
   "execution_count": null,
   "metadata": {},
   "outputs": [],
   "source": [
    "df[df['dti'].isna()].count()\n",
    "df[(df['annual_inc']==0) & (~df['dti'].isna())]\n",
    "#annual inc is zero -> dti is zero something strange\n"
   ]
  },
  {
   "cell_type": "markdown",
   "metadata": {},
   "source": [
    "4. Recoveries"
   ]
  },
  {
   "cell_type": "code",
   "execution_count": null,
   "metadata": {},
   "outputs": [],
   "source": [
    "df[df['recoveries']>0].count()/df.shape[0]\n",
    "# Only of total is recovered, calculate how many of default are recovered"
   ]
  },
  {
   "cell_type": "code",
   "execution_count": null,
   "metadata": {},
   "outputs": [],
   "source": [
    "plot_histogram(df[df['recoveries']>0],variable='recoveries')\n",
    "# smaller ammounts are recovered"
   ]
  },
  {
   "cell_type": "markdown",
   "metadata": {},
   "source": [
    "### Categorical"
   ]
  },
  {
   "cell_type": "markdown",
   "metadata": {},
   "source": [
    "df.head()"
   ]
  },
  {
   "cell_type": "code",
   "execution_count": null,
   "metadata": {},
   "outputs": [],
   "source": [
    "df.head()\n",
    "dates = ['issue_d','earliest_cr_line','last_pymnt_d']"
   ]
  },
  {
   "cell_type": "code",
   "execution_count": null,
   "metadata": {},
   "outputs": [],
   "source": [
    "categorical = df.select_dtypes('object').columns\n",
    "categorical = [c for c in categorical if c not in dates]\n"
   ]
  },
  {
   "cell_type": "code",
   "execution_count": null,
   "metadata": {},
   "outputs": [],
   "source": [
    "for c in categorical:\n",
    "    plot_cnt(df,variable=c)\n",
    "    plt.show()"
   ]
  },
  {
   "cell_type": "code",
   "execution_count": null,
   "metadata": {},
   "outputs": [],
   "source": [
    "df['loan_status'].value_counts()\n",
    "df['term'].value_counts()\n",
    "df['home_ownership'].value_counts()\n",
    "df['loan_status'].value_counts()"
   ]
  },
  {
   "cell_type": "code",
   "execution_count": null,
   "metadata": {},
   "outputs": [],
   "source": []
  }
 ],
 "metadata": {
  "interpreter": {
   "hash": "6e4be27bec60e11bd244380f4a4f33253c7dbc126c45a63e0eb00af4733d3b4b"
  },
  "kernelspec": {
   "display_name": "Python 3.9.7 ('PD-scoring-Yvrhi1rQ')",
   "language": "python",
   "name": "python3"
  },
  "language_info": {
   "codemirror_mode": {
    "name": "ipython",
    "version": 3
   },
   "file_extension": ".py",
   "mimetype": "text/x-python",
   "name": "python",
   "nbconvert_exporter": "python",
   "pygments_lexer": "ipython3",
   "version": "3.9.7"
  },
  "orig_nbformat": 4
 },
 "nbformat": 4,
 "nbformat_minor": 2
}
